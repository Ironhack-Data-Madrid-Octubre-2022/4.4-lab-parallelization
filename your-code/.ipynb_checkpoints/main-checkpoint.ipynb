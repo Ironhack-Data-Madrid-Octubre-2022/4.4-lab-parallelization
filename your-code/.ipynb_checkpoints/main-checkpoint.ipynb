{
 "cells": [
  {
   "cell_type": "markdown",
   "metadata": {
    "toc": true
   },
   "source": [
    "<h1>Table of Contents<span class=\"tocSkip\"></span></h1>\n",
    "<div class=\"toc\"><ul class=\"toc-item\"><li><span><a href=\"#Parallelization-Lab\" data-toc-modified-id=\"Parallelization-Lab-1\"><span class=\"toc-item-num\">1&nbsp;&nbsp;</span>Parallelization Lab</a></span><ul class=\"toc-item\"><li><span><a href=\"#Step-1:-Use-the-requests-library-to-retrieve-the-content-from-the-URL-below.\" data-toc-modified-id=\"Step-1:-Use-the-requests-library-to-retrieve-the-content-from-the-URL-below.-1.1\"><span class=\"toc-item-num\">1.1&nbsp;&nbsp;</span>Step 1: Use the requests library to retrieve the content from the URL below.</a></span></li><li><span><a href=\"#Step-2:-Use-BeautifulSoup-to-extract-a-list-of-all-the-unique-links-on-the-page.\" data-toc-modified-id=\"Step-2:-Use-BeautifulSoup-to-extract-a-list-of-all-the-unique-links-on-the-page.-1.2\"><span class=\"toc-item-num\">1.2&nbsp;&nbsp;</span>Step 2: Use BeautifulSoup to extract a list of all the unique links on the page.</a></span></li><li><span><a href=\"#Step-3:-Use-list-comprehensions-with-conditions-to-clean-the-link-list.\" data-toc-modified-id=\"Step-3:-Use-list-comprehensions-with-conditions-to-clean-the-link-list.-1.3\"><span class=\"toc-item-num\">1.3&nbsp;&nbsp;</span>Step 3: Use list comprehensions with conditions to clean the link list.</a></span></li><li><span><a href=\"#Step-4:-Use-the-os-library-to-create-a-folder-called-wikipedia-and-make-that-the-current-working-directory.\" data-toc-modified-id=\"Step-4:-Use-the-os-library-to-create-a-folder-called-wikipedia-and-make-that-the-current-working-directory.-1.4\"><span class=\"toc-item-num\">1.4&nbsp;&nbsp;</span>Step 4: Use the os library to create a folder called <em>wikipedia</em> and make that the current working directory.</a></span></li><li><span><a href=\"#Step-5:-Write-a-function-called-index_page-that-accepts-a-link-and-does-the-following.\" data-toc-modified-id=\"Step-5:-Write-a-function-called-index_page-that-accepts-a-link-and-does-the-following.-1.5\"><span class=\"toc-item-num\">1.5&nbsp;&nbsp;</span>Step 5: Write a function called index_page that accepts a link and does the following.</a></span></li><li><span><a href=\"#Step-6:-Sequentially-loop-through-the-list-of-links,-running-the-index_page-function-each-time.\" data-toc-modified-id=\"Step-6:-Sequentially-loop-through-the-list-of-links,-running-the-index_page-function-each-time.-1.6\"><span class=\"toc-item-num\">1.6&nbsp;&nbsp;</span>Step 6: Sequentially loop through the list of links, running the index_page function each time.</a></span></li><li><span><a href=\"#Step-7:-Perform-the-page-indexing-in-parallel-and-note-the-difference-in-performance.\" data-toc-modified-id=\"Step-7:-Perform-the-page-indexing-in-parallel-and-note-the-difference-in-performance.-1.7\"><span class=\"toc-item-num\">1.7&nbsp;&nbsp;</span>Step 7: Perform the page indexing in parallel and note the difference in performance.</a></span></li></ul></li></ul></div>"
   ]
  },
  {
   "cell_type": "markdown",
   "metadata": {},
   "source": [
    "# Parallelization Lab\n",
    "\n",
    "In this lab, you will be leveraging several concepts you have learned to obtain a list of links from a web page and crawl and index the pages referenced by those links - both sequentially and in parallel. Follow the steps below to complete the lab."
   ]
  },
  {
   "cell_type": "markdown",
   "metadata": {},
   "source": [
    "## Step 1: Use the requests library to retrieve the content from the URL below.\n",
    "\n",
    "https://en.wikipedia.org/wiki/Data_science"
   ]
  },
  {
   "cell_type": "code",
   "execution_count": 1,
   "metadata": {},
   "outputs": [],
   "source": [
    "import requests as req\n",
    "\n",
    "url = 'https://en.wikipedia.org/wiki/Data_science'\n",
    "html = req.get(url).content"
   ]
  },
  {
   "cell_type": "code",
   "execution_count": 2,
   "metadata": {},
   "outputs": [],
   "source": [
    "#your code\n"
   ]
  },
  {
   "cell_type": "markdown",
   "metadata": {},
   "source": [
    "## Step 2: Use BeautifulSoup to extract a list of all the unique links on the page."
   ]
  },
  {
   "cell_type": "code",
   "execution_count": 3,
   "metadata": {},
   "outputs": [],
   "source": [
    "from bs4 import BeautifulSoup as bs\n",
    "import re"
   ]
  },
  {
   "cell_type": "code",
   "execution_count": 4,
   "metadata": {
    "scrolled": true
   },
   "outputs": [],
   "source": [
    "#your code\n",
    "soup=bs(html, 'html.parser')"
   ]
  },
  {
   "cell_type": "code",
   "execution_count": 5,
   "metadata": {},
   "outputs": [
    {
     "data": {
      "text/plain": [
       "['/wiki/Unstructured_data',\n",
       " '/wiki/Wikipedia:File_Upload_Wizard',\n",
       " 'https://et.wikipedia.org/wiki/Andmeteadus',\n",
       " '/wiki/Data_archaeology',\n",
       " '/wiki/Data_transformation',\n",
       " '/wiki/Template_talk:Data',\n",
       " 'https://foundation.wikimedia.org/wiki/Cookie_statement',\n",
       " 'https://ko.wikipedia.org/wiki/%EB%8D%B0%EC%9D%B4%ED%84%B0_%EC%82%AC%EC%9D%B4%EC%96%B8%EC%8A%A4',\n",
       " '/wiki/Human%E2%80%93computer_interaction',\n",
       " '/wiki/Database',\n",
       " 'https://uz.wikipedia.org/wiki/Ma%27lumotlar_ombori',\n",
       " '/wiki/Turing_Award',\n",
       " '/wiki/Template:Data',\n",
       " '//foundation.wikimedia.org/wiki/Terms_of_Use',\n",
       " '/wiki/Data_steward',\n",
       " '/wiki/Portal:Current_events',\n",
       " '/wiki/OCLC_(identifier)',\n",
       " '/wiki/Data_corruption',\n",
       " '/wiki/New_York_City',\n",
       " '/wiki/Information_science',\n",
       " '/wiki/Problem_solving',\n",
       " '/wiki/Special:BookSources/0-12-241770-4',\n",
       " '/wiki/Data_format_management',\n",
       " '/wiki/Jim_Gray_(computer_scientist)',\n",
       " 'https://bg.wikipedia.org/wiki/%D0%9D%D0%B0%D1%83%D0%BA%D0%B0_%D0%B7%D0%B0_%D0%B4%D0%B0%D0%BD%D0%BD%D0%B8%D1%82%D0%B5',\n",
       " '//www.wikimediafoundation.org/',\n",
       " '/wiki/PMID_(identifier)',\n",
       " '/wiki/Andrew_Gelman',\n",
       " '/wiki/Computer_science',\n",
       " 'https://zh-yue.wikipedia.org/wiki/%E6%95%B8%E6%93%9A%E7%A7%91%E5%AD%B8',\n",
       " '/wiki/Main_Page',\n",
       " '/wiki/Data_extraction',\n",
       " '/wiki/C._F._Jeff_Wu',\n",
       " '/wiki/William_S._Cleveland',\n",
       " '/wiki/Analysis',\n",
       " '/wiki/Interdisciplinary',\n",
       " '/wiki/Analytics',\n",
       " '/wiki/Special:MyTalk',\n",
       " 'https://th.wikipedia.org/wiki/%E0%B8%A7%E0%B8%B4%E0%B8%97%E0%B8%A2%E0%B8%B2%E0%B8%81%E0%B8%B2%E0%B8%A3%E0%B8%82%E0%B9%89%E0%B8%AD%E0%B8%A1%E0%B8%B9%E0%B8%A5',\n",
       " '//en.m.wikipedia.org/w/index.php?title=Data_science&mobileaction=toggle_view_mobile',\n",
       " '/wiki/Data_mining',\n",
       " '/wiki/Data_(computing)',\n",
       " '/wiki/Data_visualization',\n",
       " '/wiki/Boston',\n",
       " '/wiki/Machine_learning',\n",
       " '/wiki/Data_analysis',\n",
       " 'https://en.wikiversity.org/wiki/Data_science',\n",
       " 'https://www.mediawiki.org/',\n",
       " '/wiki/Jeffrey_T._Leek',\n",
       " '/wiki/Category:Data_analysis',\n",
       " '/wiki/Information_explosion',\n",
       " 'https://www.wikidata.org/wiki/Special:EntityPage/Q2374463#sitelinks-wikipedia',\n",
       " '/wiki/Data_philanthropy',\n",
       " '/wiki/Special:Random',\n",
       " 'https://ta.wikipedia.org/wiki/%E0%AE%A4%E0%AE%B0%E0%AE%B5%E0%AF%81_%E0%AE%85%E0%AE%B1%E0%AE%BF%E0%AE%B5%E0%AE%BF%E0%AE%AF%E0%AE%B2%E0%AF%8D',\n",
       " '/wiki/Special:RecentChanges',\n",
       " 'https://ca.wikipedia.org/wiki/Ci%C3%A8ncia_de_les_dades',\n",
       " '/wiki/Knowledge',\n",
       " '/wiki/Data',\n",
       " '/wiki/Data_pre-processing',\n",
       " '//foundation.wikimedia.org/wiki/Privacy_policy',\n",
       " '/wiki/Data_integrity',\n",
       " '/wiki/Algorithm',\n",
       " 'https://eu.wikipedia.org/wiki/Datu_zientzia',\n",
       " '/wiki/Data_degradation',\n",
       " '/wiki/Data_retention',\n",
       " '/wiki/Data_warehouse',\n",
       " 'https://hy.wikipedia.org/wiki/%D5%8F%D5%BE%D5%B5%D5%A1%D5%AC%D5%B6%D5%A5%D6%80%D5%AB_%D5%A3%D5%AB%D5%BF%D5%B8%D6%82%D5%A9%D5%B5%D5%B8%D6%82%D5%B6',\n",
       " '/wiki/Wikipedia:About',\n",
       " 'https://uk.wikipedia.org/wiki/%D0%9D%D0%B0%D1%83%D0%BA%D0%B0_%D0%BF%D1%80%D0%BE_%D0%B4%D0%B0%D0%BD%D1%96',\n",
       " '/wiki/ISSN_(identifier)',\n",
       " '/wiki/Columbia_University',\n",
       " '/wiki/Wikipedia:General_disclaimer',\n",
       " '/wiki/Informatics',\n",
       " '/wiki/Complex_systems',\n",
       " '/wiki/Data_preservation',\n",
       " 'https://simple.wikipedia.org/wiki/Data_science',\n",
       " 'https://developer.wikimedia.org',\n",
       " '/wiki/Academic_discipline',\n",
       " '/wiki/Data_lineage',\n",
       " '/wiki/Boston_Globe',\n",
       " '/wiki/Data_recovery',\n",
       " '/wiki/Data_curation',\n",
       " '/wiki/Data_validation',\n",
       " 'https://commons.wikimedia.org/wiki/Category:Data_science',\n",
       " '/wiki/Data_management',\n",
       " 'https://www.wikidata.org/wiki/Special:EntityPage/Q2374463',\n",
       " '/wiki/Data_migration',\n",
       " '/wiki/Scientific_Data_(journal)',\n",
       " 'https://zh.wikipedia.org/wiki/%E6%95%B0%E6%8D%AE%E7%A7%91%E5%AD%A6',\n",
       " '/wiki/Category:Short_description_matches_Wikidata',\n",
       " '/wiki/Information_visualization',\n",
       " '/wiki/Business',\n",
       " '/wiki/Phenomena',\n",
       " '/wiki/Special:SpecialPages',\n",
       " 'https://el.wikipedia.org/wiki/%CE%95%CF%80%CE%B9%CF%83%CF%84%CE%AE%CE%BC%CE%B7_%CE%B4%CE%B5%CE%B4%CE%BF%CE%BC%CE%AD%CE%BD%CF%89%CE%BD',\n",
       " 'https://es.wikipedia.org/wiki/Ciencia_de_datos',\n",
       " '/wiki/New_York_Times',\n",
       " '/wiki/Category:Use_dmy_dates_from_August_2021',\n",
       " 'https://kk.wikipedia.org/wiki/%D0%94%D0%B5%D1%80%D0%B5%D0%BA%D1%82%D0%B5%D1%80_%D1%82%D1%83%D1%80%D0%B0%D0%BB%D1%8B_%D2%93%D1%8B%D0%BB%D1%8B%D0%BC',\n",
       " '/wiki/Nathan_Yau',\n",
       " '/wiki/Committee_on_Data_for_Science_and_Technology',\n",
       " '/wiki/Data_editing',\n",
       " '/wiki/File:PIA23792-1600x1200(1).jpg',\n",
       " 'https://en.wikipedia.org/w/index.php?title=Data_science&oldid=1120574273',\n",
       " 'https://ms.wikipedia.org/wiki/Sains_data',\n",
       " '/wiki/ISBN_(identifier)',\n",
       " '/wiki/Help:Contents',\n",
       " 'https://pl.wikipedia.org/wiki/Danologia',\n",
       " '/wiki/Buzzword',\n",
       " 'https://hi.wikipedia.org/wiki/%E0%A4%86%E0%A4%81%E0%A4%95%E0%A4%A1%E0%A4%BC%E0%A4%BE_%E0%A4%B5%E0%A4%BF%E0%A4%9C%E0%A5%8D%E0%A4%9E%E0%A4%BE%E0%A4%A8',\n",
       " 'https://fa.wikipedia.org/wiki/%D8%B9%D9%84%D9%85_%D8%AF%D8%A7%D8%AF%D9%87%E2%80%8C%D9%87%D8%A7',\n",
       " 'https://mk.wikipedia.org/wiki/%D0%9D%D0%B0%D1%83%D0%BA%D0%B0_%D0%B7%D0%B0_%D0%BF%D0%BE%D0%B4%D0%B0%D1%82%D0%BE%D1%86%D0%B8%D1%82%D0%B5',\n",
       " '/wiki/Empirical_research',\n",
       " '/wiki/Special:BookSources/978-0-9825442-0-4',\n",
       " 'https://vi.wikipedia.org/wiki/Khoa_h%E1%BB%8Dc_d%E1%BB%AF_li%E1%BB%87u',\n",
       " '/wiki/Special:MyContributions',\n",
       " '/wiki/Special:WhatLinksHere/Data_science',\n",
       " '/wiki/Graphic_design',\n",
       " '/wiki/Data_scrubbing',\n",
       " '/wiki/Basic_research',\n",
       " '/wiki/Doi_(identifier)',\n",
       " '/wiki/Mathematics',\n",
       " '/wiki/Exploration',\n",
       " '/wiki/ODSC',\n",
       " '/wiki/Help:Category',\n",
       " '/wiki/Extract,_load,_transform',\n",
       " 'https://pt.wikipedia.org/wiki/Ci%C3%AAncia_de_dados',\n",
       " 'https://id.wikipedia.org/wiki/Ilmu_data',\n",
       " '/wiki/Nate_Silver',\n",
       " '/wiki/Data_wrangling',\n",
       " '/wiki/Scientific_method',\n",
       " 'https://nl.wikipedia.org/wiki/Datawetenschap',\n",
       " '/wiki/Data_loss',\n",
       " 'https://ur.wikipedia.org/wiki/%DA%88%DB%8C%D9%B9%D8%A7_%D8%B3%D8%A7%D8%A6%D9%86%D8%B3',\n",
       " '/wiki/Harvard_Business_Review',\n",
       " '/wiki/Data_loading',\n",
       " '/wiki/Computational_statistics',\n",
       " '/wiki/Data_library',\n",
       " '/wiki/Data_reduction',\n",
       " 'https://fr.wikipedia.org/wiki/Science_des_donn%C3%A9es',\n",
       " 'https://my.wikipedia.org/wiki/%E1%80%A1%E1%80%81%E1%80%BB%E1%80%80%E1%80%BA%E1%80%A1%E1%80%9C%E1%80%80%E1%80%BA%E1%80%9E%E1%80%AD%E1%80%95%E1%80%B9%E1%80%95%E1%80%B6%E1%80%95%E1%80%8A%E1%80%AC',\n",
       " 'https://foundation.wikimedia.org/wiki/Privacy_policy',\n",
       " '/wiki/Big_data',\n",
       " '/wiki/Data_set',\n",
       " '/wiki/S2CID_(identifier)',\n",
       " 'https://lv.wikipedia.org/wiki/Datu_m%C4%81c%C4%ABba',\n",
       " '/wiki/Data_scraping',\n",
       " '/wiki/Information_technology',\n",
       " 'https://donate.wikimedia.org/wiki/Special:FundraiserRedirector?utm_source=donate&utm_medium=sidebar&utm_campaign=C13_en.wikipedia.org&uselang=en',\n",
       " '/wiki/John_Tukey',\n",
       " '/wiki/Communication',\n",
       " 'https://kn.wikipedia.org/wiki/%E0%B2%A6%E0%B2%A4%E0%B3%8D%E0%B2%A4%E0%B2%BE%E0%B2%82%E0%B2%B6_%E0%B2%B5%E0%B2%BF%E0%B2%9C%E0%B3%8D%E0%B2%9E%E0%B2%BE%E0%B2%A8',\n",
       " 'https://wikimediafoundation.org/',\n",
       " 'https://ar.wikipedia.org/wiki/%D8%B9%D9%84%D9%85_%D8%A7%D9%84%D8%A8%D9%8A%D8%A7%D9%86%D8%A7%D8%AA',\n",
       " '/wiki/Data_publishing',\n",
       " '/wiki/Information_privacy',\n",
       " 'https://de.wikipedia.org/wiki/Data_Science',\n",
       " '/wiki/Women_in_Data',\n",
       " '/wiki/Data_security',\n",
       " '/wiki/National_Science_Board',\n",
       " '/wiki/Category:Articles_with_short_description',\n",
       " 'https://bn.wikipedia.org/wiki/%E0%A6%89%E0%A6%AA%E0%A6%BE%E0%A6%A4%E0%A7%8D%E0%A6%A4_%E0%A6%AC%E0%A6%BF%E0%A6%9C%E0%A7%8D%E0%A6%9E%E0%A6%BE%E0%A6%A8',\n",
       " '/wiki/Wikipedia:Contents',\n",
       " '/wiki/Wide-field_Infrared_Survey_Explorer',\n",
       " 'https://he.wikipedia.org/wiki/%D7%9E%D7%93%D7%A2_%D7%94%D7%A0%D7%AA%D7%95%D7%A0%D7%99%D7%9D',\n",
       " 'https://cs.wikipedia.org/wiki/Data_science',\n",
       " 'https://en.wikipedia.org/w/index.php?title=Template:Data&action=edit',\n",
       " '/wiki/Category:Computational_fields_of_study',\n",
       " '/wiki/DJ_Patil',\n",
       " '/wiki/Special:BookSources/9784431702085',\n",
       " '/wiki/David_Donoho',\n",
       " 'https://fi.wikipedia.org/wiki/Datatiede',\n",
       " '/wiki/Data_science',\n",
       " '/wiki/Peter_Naur',\n",
       " '/wiki/Thomas_H._Davenport',\n",
       " '/wiki/Computational_science',\n",
       " 'https://tr.wikipedia.org/wiki/Veri_bilimi',\n",
       " '/wiki/Jeff_Hammerbacher',\n",
       " '/wiki/Ben_Fry',\n",
       " '/wiki/Data_farming',\n",
       " '/wiki/Data_fusion',\n",
       " '/wiki/Category:Information_science',\n",
       " '/wiki/Talk:Data_science',\n",
       " '/wiki/Data_augmentation',\n",
       " '/wiki/Domain_knowledge',\n",
       " '/wiki/Data_collection',\n",
       " '/wiki/Data_storage',\n",
       " '/wiki/Data_compression',\n",
       " '/wiki/Category:Computer_occupations',\n",
       " 'https://ru.wikipedia.org/wiki/%D0%9D%D0%B0%D1%83%D0%BA%D0%B0_%D0%BE_%D0%B4%D0%B0%D0%BD%D0%BD%D1%8B%D1%85',\n",
       " '//en.wikipedia.org/wiki/Wikipedia:Text_of_Creative_Commons_Attribution-ShareAlike_3.0_Unported_License',\n",
       " '/wiki/Statistics',\n",
       " '/wiki/Extract,_transform,_load',\n",
       " 'https://it.wikipedia.org/wiki/Scienza_dei_dati',\n",
       " 'https://stats.wikimedia.org/#/en.wikipedia.org',\n",
       " '//en.wikipedia.org/wiki/Wikipedia:Contact_us',\n",
       " '/wiki/Data_integration',\n",
       " '/wiki/Help:Introduction',\n",
       " '/wiki/Montpellier_2_University',\n",
       " '/wiki/Vasant_Dhar',\n",
       " '/wiki/Space_telescope',\n",
       " '/wiki/Interdisciplinarity',\n",
       " '/wiki/Data_cleansing',\n",
       " 'https://ja.wikipedia.org/wiki/%E3%83%87%E3%83%BC%E3%82%BF%E3%82%B5%E3%82%A4%E3%82%A8%E3%83%B3%E3%82%B9',\n",
       " '/wiki/Comet_NEOWISE',\n",
       " 'https://eo.wikipedia.org/wiki/Datuma_scienco',\n",
       " '/wiki/Wikipedia:Community_portal',\n",
       " '/wiki/Astronomical_survey',\n",
       " '/wiki/American_Statistical_Association',\n",
       " '/wiki/Data_quality',\n",
       " '/wiki/Data_sonification',\n",
       " '/wiki/Distributed_computing',\n",
       " '/wiki/Special:RecentChangesLinked/Data_science',\n",
       " 'https://az.wikipedia.org/wiki/Veril%C9%99nl%C9%99r_elmi_(Data_Science)']"
      ]
     },
     "execution_count": 5,
     "metadata": {},
     "output_type": "execute_result"
    }
   ],
   "source": [
    "tabla = soup.find_all(\"a\")\n",
    "lst=[]\n",
    "for i in range(len(tabla)):\n",
    "    try:\n",
    "        if 'wiki' in tabla[i]['href']:\n",
    "            lst.append(tabla[i]['href'])\n",
    "    except:\n",
    "        None\n",
    "list(set(lst))"
   ]
  },
  {
   "cell_type": "markdown",
   "metadata": {},
   "source": [
    "## Step 3: Use list comprehensions with conditions to clean the link list.\n",
    "\n",
    "There are two types of links, absolute and relative. Absolute links have the full URL and begin with http while relative links begin with a forward slash (/) and point to an internal page within the wikipedia.org domain. Clean the respective types of URLs as follows.\n",
    "\n",
    "- Absolute Links: Create a list of these and remove any that contain a percentage sign (%).\n",
    "- Relativel Links: Create a list of these, add the domain to the link so that you have the full URL, and remove any that contain a percentage sign (%).\n",
    "- Combine the list of absolute and relative links and ensure there are no duplicates."
   ]
  },
  {
   "cell_type": "code",
   "execution_count": 6,
   "metadata": {},
   "outputs": [],
   "source": [
    "domain = 'http://wikipedia.org'"
   ]
  },
  {
   "cell_type": "code",
   "execution_count": 7,
   "metadata": {},
   "outputs": [],
   "source": [
    "#your code\n",
    "html = req.get(url).text\n",
    "soup=bs(html, 'html.parser')\n",
    "\n",
    "\n"
   ]
  },
  {
   "cell_type": "code",
   "execution_count": 8,
   "metadata": {},
   "outputs": [
    {
     "data": {
      "text/plain": [
       "['/wiki/Unstructured_data',\n",
       " '/wiki/Wikipedia:File_Upload_Wizard',\n",
       " 'https://et.wikipedia.org/wiki/Andmeteadus',\n",
       " '/wiki/Data_archaeology',\n",
       " '/wiki/Data_transformation',\n",
       " '/wiki/Template_talk:Data',\n",
       " 'https://foundation.wikimedia.org/wiki/Cookie_statement',\n",
       " 'https://ko.wikipedia.org/wiki/%EB%8D%B0%EC%9D%B4%ED%84%B0_%EC%82%AC%EC%9D%B4%EC%96%B8%EC%8A%A4',\n",
       " '/wiki/Human%E2%80%93computer_interaction',\n",
       " '/wiki/Database']"
      ]
     },
     "execution_count": 8,
     "metadata": {},
     "output_type": "execute_result"
    }
   ],
   "source": [
    "all_links = list(set(lst))\n",
    "all_links[:10]"
   ]
  },
  {
   "cell_type": "code",
   "execution_count": 9,
   "metadata": {},
   "outputs": [],
   "source": [
    "pattern = re.compile(r'http[s]?://(?:[a-zA-Z]|[0-9]|[$-_@.&+]|[!*\\(\\),]|(?:%[0-9a-fA-F][0-9a-fA-F])|#)+')"
   ]
  },
  {
   "cell_type": "code",
   "execution_count": 10,
   "metadata": {},
   "outputs": [],
   "source": [
    "lst1 = []\n",
    "for i in all_links:\n",
    "    if i in re.findall(pattern,i):\n",
    "        if \"%\" not in i:\n",
    "            lst1.append(i)\n",
    "        \n",
    "        \n",
    "\n",
    "        "
   ]
  },
  {
   "cell_type": "code",
   "execution_count": 11,
   "metadata": {},
   "outputs": [],
   "source": [
    "absolute = [i for i in all_links if i in re.findall(pattern,i) if \"%\" not in i ]"
   ]
  },
  {
   "cell_type": "code",
   "execution_count": 12,
   "metadata": {},
   "outputs": [],
   "source": [
    "relative =[(domain + i) for i in all_links if i not in re.findall(pattern,i)]"
   ]
  },
  {
   "cell_type": "code",
   "execution_count": 13,
   "metadata": {},
   "outputs": [
    {
     "data": {
      "text/plain": [
       "['http://wikipedia.org/wiki/Unstructured_data',\n",
       " 'http://wikipedia.org/wiki/Wikipedia:File_Upload_Wizard',\n",
       " 'http://wikipedia.org/wiki/Data_archaeology',\n",
       " 'http://wikipedia.org/wiki/Data_transformation',\n",
       " 'http://wikipedia.org/wiki/Template_talk:Data',\n",
       " 'http://wikipedia.org/wiki/Human%E2%80%93computer_interaction',\n",
       " 'http://wikipedia.org/wiki/Database',\n",
       " 'http://wikipedia.org/wiki/Turing_Award',\n",
       " 'http://wikipedia.org/wiki/Template:Data',\n",
       " 'http://wikipedia.org//foundation.wikimedia.org/wiki/Terms_of_Use']"
      ]
     },
     "execution_count": 13,
     "metadata": {},
     "output_type": "execute_result"
    }
   ],
   "source": [
    "relative[:10]"
   ]
  },
  {
   "cell_type": "code",
   "execution_count": 14,
   "metadata": {},
   "outputs": [],
   "source": [
    "combined = (absolute + relative)"
   ]
  },
  {
   "cell_type": "code",
   "execution_count": null,
   "metadata": {},
   "outputs": [],
   "source": []
  },
  {
   "cell_type": "markdown",
   "metadata": {},
   "source": [
    "## Step 4: Use the os library to create a folder called *wikipedia* and make that the current working directory."
   ]
  },
  {
   "cell_type": "code",
   "execution_count": 15,
   "metadata": {},
   "outputs": [],
   "source": [
    "import os"
   ]
  },
  {
   "cell_type": "code",
   "execution_count": 16,
   "metadata": {},
   "outputs": [
    {
     "data": {
      "text/plain": [
       "'C:\\\\Users\\\\pabli\\\\apuntes_de_clase\\\\4.4-lab-parallelization\\\\your-code'"
      ]
     },
     "execution_count": 16,
     "metadata": {},
     "output_type": "execute_result"
    }
   ],
   "source": [
    "os.getcwd()"
   ]
  },
  {
   "cell_type": "code",
   "execution_count": 17,
   "metadata": {},
   "outputs": [
    {
     "ename": "FileExistsError",
     "evalue": "[WinError 183] No se puede crear un archivo que ya existe: 'C:\\\\Users\\\\pabli\\\\apuntes_de_clase\\\\4.4-lab-parallelization\\\\wikipedia'",
     "output_type": "error",
     "traceback": [
      "\u001b[1;31m---------------------------------------------------------------------------\u001b[0m",
      "\u001b[1;31mFileExistsError\u001b[0m                           Traceback (most recent call last)",
      "Input \u001b[1;32mIn [17]\u001b[0m, in \u001b[0;36m<cell line: 8>\u001b[1;34m()\u001b[0m\n\u001b[0;32m      4\u001b[0m parent_dir \u001b[38;5;241m=\u001b[39m \u001b[38;5;124mr\u001b[39m\u001b[38;5;124m\"\u001b[39m\u001b[38;5;124mC:\u001b[39m\u001b[38;5;124m\\\u001b[39m\u001b[38;5;124mUsers\u001b[39m\u001b[38;5;124m\\\u001b[39m\u001b[38;5;124mpabli\u001b[39m\u001b[38;5;124m\\\u001b[39m\u001b[38;5;124mapuntes_de_clase\u001b[39m\u001b[38;5;124m\\\u001b[39m\u001b[38;5;124m4.4-lab-parallelization\u001b[39m\u001b[38;5;124m\"\u001b[39m\n\u001b[0;32m      6\u001b[0m path \u001b[38;5;241m=\u001b[39m os\u001b[38;5;241m.\u001b[39mpath\u001b[38;5;241m.\u001b[39mjoin(parent_dir, directory)\n\u001b[1;32m----> 8\u001b[0m \u001b[43mos\u001b[49m\u001b[38;5;241;43m.\u001b[39;49m\u001b[43mmkdir\u001b[49m\u001b[43m(\u001b[49m\u001b[43mpath\u001b[49m\u001b[43m)\u001b[49m\n",
      "\u001b[1;31mFileExistsError\u001b[0m: [WinError 183] No se puede crear un archivo que ya existe: 'C:\\\\Users\\\\pabli\\\\apuntes_de_clase\\\\4.4-lab-parallelization\\\\wikipedia'"
     ]
    }
   ],
   "source": [
    "#your code\n",
    "directory = \"wikipedia\"\n",
    "\n",
    "parent_dir = r\"C:\\Users\\pabli\\apuntes_de_clase\\4.4-lab-parallelization\"\n",
    "\n",
    "path = os.path.join(parent_dir, directory)\n",
    "\n",
    "os.mkdir(path)\n",
    "\n"
   ]
  },
  {
   "cell_type": "code",
   "execution_count": 18,
   "metadata": {},
   "outputs": [],
   "source": [
    "#your code\n",
    "os.chdir(path)"
   ]
  },
  {
   "cell_type": "code",
   "execution_count": 19,
   "metadata": {},
   "outputs": [
    {
     "data": {
      "text/plain": [
       "'C:\\\\Users\\\\pabli\\\\apuntes_de_clase\\\\4.4-lab-parallelization\\\\wikipedia'"
      ]
     },
     "execution_count": 19,
     "metadata": {},
     "output_type": "execute_result"
    }
   ],
   "source": [
    "os.getcwd()"
   ]
  },
  {
   "cell_type": "markdown",
   "metadata": {},
   "source": [
    "## Step 5: Write a function called index_page that accepts a link and does the following.\n",
    "\n",
    "- Tries to request the content of the page referenced by that link.\n",
    "- Slugifies the filename using the `slugify` function from the [python-slugify](https://pypi.org/project/python-slugify/) library and adds a .html file extension.\n",
    "    - If you don't already have the python-slugify library installed, you can pip install it as follows: `$ pip install python-slugify`.\n",
    "    - To import the slugify function, you would do the following: `from slugify import slugify`.\n",
    "    - You can then slugify a link as follows `slugify(link)`.\n",
    "- Creates a file in the wikipedia folder using the slugified filename and writes the contents of the page to the file.\n",
    "- If an exception occurs during the process above, just `pass`."
   ]
  },
  {
   "cell_type": "code",
   "execution_count": 20,
   "metadata": {},
   "outputs": [
    {
     "name": "stdout",
     "output_type": "stream",
     "text": [
      "Requirement already satisfied: python-slugify in c:\\users\\pabli\\anaconda3\\lib\\site-packages (5.0.2)\n",
      "Requirement already satisfied: text-unidecode>=1.3 in c:\\users\\pabli\\anaconda3\\lib\\site-packages (from python-slugify) (1.3)\n"
     ]
    }
   ],
   "source": [
    "!pip install python-slugify"
   ]
  },
  {
   "cell_type": "code",
   "execution_count": 21,
   "metadata": {},
   "outputs": [],
   "source": [
    "from slugify import slugify\n",
    "\n",
    "unicode=str()"
   ]
  },
  {
   "cell_type": "code",
   "execution_count": 22,
   "metadata": {},
   "outputs": [
    {
     "data": {
      "text/plain": [
       "'http-wikipedia-org-wiki-daqweqwe12312ta-science'"
      ]
     },
     "execution_count": 22,
     "metadata": {},
     "output_type": "execute_result"
    }
   ],
   "source": [
    "slugify(\"http://wikipedia.org/wiki/Daqweqwe12312ta_science\")"
   ]
  },
  {
   "cell_type": "code",
   "execution_count": 23,
   "metadata": {},
   "outputs": [],
   "source": [
    "def index_page(s):\n",
    "    html = req.get(s).text\n",
    "    nombre = slugify(s) + \".html\"\n",
    "    soup=bs(html, 'html.parser')\n",
    "    try:\n",
    "        f = open(nombre, \"w\")\n",
    "        f.write(str(html.encode(\"utf-8\")))\n",
    "        f.close()\n",
    "    except:\n",
    "        pass"
   ]
  },
  {
   "cell_type": "code",
   "execution_count": 24,
   "metadata": {},
   "outputs": [],
   "source": [
    "index_page(\"http://wikipedia.org/wiki/Wikipedia:General_disclaimer\")"
   ]
  },
  {
   "cell_type": "markdown",
   "metadata": {},
   "source": [
    "## Step 6: Sequentially loop through the list of links, running the index_page function each time.\n",
    "\n",
    "Remember to include `%%time` at the beginning of the cell so that it measures the time it takes for the cell to run."
   ]
  },
  {
   "cell_type": "code",
   "execution_count": null,
   "metadata": {},
   "outputs": [],
   "source": [
    "\n",
    "%%time\n",
    "for i in combined:\n",
    "    index_page(i)"
   ]
  },
  {
   "cell_type": "markdown",
   "metadata": {},
   "source": [
    "## Step 7: Perform the page indexing in parallel and note the difference in performance.\n",
    "\n",
    "Remember to include `%%time` at the beginning of the cell so that it measures the time it takes for the cell to run."
   ]
  },
  {
   "cell_type": "code",
   "execution_count": 25,
   "metadata": {},
   "outputs": [],
   "source": [
    "import multiprocessing as mp\n",
    "from tqdm.notebook import tqdm"
   ]
  },
  {
   "cell_type": "code",
   "execution_count": 26,
   "metadata": {},
   "outputs": [
    {
     "data": {
      "text/plain": [
       "8"
      ]
     },
     "execution_count": 26,
     "metadata": {},
     "output_type": "execute_result"
    }
   ],
   "source": [
    "mp.cpu_count()"
   ]
  },
  {
   "cell_type": "code",
   "execution_count": null,
   "metadata": {},
   "outputs": [
    {
     "data": {
      "application/vnd.jupyter.widget-view+json": {
       "model_id": "198d8aca260c4eb4b2246c2b43fcced4",
       "version_major": 2,
       "version_minor": 0
      },
      "text/plain": [
       "  0%|          | 0/27 [00:00<?, ?it/s]"
      ]
     },
     "metadata": {},
     "output_type": "display_data"
    }
   ],
   "source": [
    "%%time\n",
    "pool=mp.Pool(mp.cpu_count())\n",
    "res = pool.map_async(index_page, tqdm(absolute)).get()\n",
    "pool.close\n"
   ]
  },
  {
   "cell_type": "code",
   "execution_count": null,
   "metadata": {},
   "outputs": [],
   "source": [
    "#%%time\n",
    "#pool = multiprocessing.Pool()\n",
    "#result = pool.map(index_page, combined)\n",
    "#pool.terminate()\n",
    "#pool.join()\n"
   ]
  },
  {
   "cell_type": "markdown",
   "metadata": {},
   "source": []
  }
 ],
 "metadata": {
  "kernelspec": {
   "display_name": "Python 3 (ipykernel)",
   "language": "python",
   "name": "python3"
  },
  "language_info": {
   "codemirror_mode": {
    "name": "ipython",
    "version": 3
   },
   "file_extension": ".py",
   "mimetype": "text/x-python",
   "name": "python",
   "nbconvert_exporter": "python",
   "pygments_lexer": "ipython3",
   "version": "3.9.12"
  },
  "toc": {
   "base_numbering": 1,
   "nav_menu": {},
   "number_sections": true,
   "sideBar": true,
   "skip_h1_title": false,
   "title_cell": "Table of Contents",
   "title_sidebar": "Contents",
   "toc_cell": true,
   "toc_position": {},
   "toc_section_display": true,
   "toc_window_display": false
  },
  "varInspector": {
   "cols": {
    "lenName": 16,
    "lenType": 16,
    "lenVar": 40
   },
   "kernels_config": {
    "python": {
     "delete_cmd_postfix": "",
     "delete_cmd_prefix": "del ",
     "library": "var_list.py",
     "varRefreshCmd": "print(var_dic_list())"
    },
    "r": {
     "delete_cmd_postfix": ") ",
     "delete_cmd_prefix": "rm(",
     "library": "var_list.r",
     "varRefreshCmd": "cat(var_dic_list()) "
    }
   },
   "types_to_exclude": [
    "module",
    "function",
    "builtin_function_or_method",
    "instance",
    "_Feature"
   ],
   "window_display": false
  }
 },
 "nbformat": 4,
 "nbformat_minor": 2
}
