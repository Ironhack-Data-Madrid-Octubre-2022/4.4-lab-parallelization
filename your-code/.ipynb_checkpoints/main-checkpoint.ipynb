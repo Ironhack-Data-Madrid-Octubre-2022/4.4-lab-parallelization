{
 "cells": [
  {
   "cell_type": "markdown",
   "metadata": {
    "toc": true
   },
   "source": [
    "<h1>Table of Contents<span class=\"tocSkip\"></span></h1>\n",
    "<div class=\"toc\"><ul class=\"toc-item\"><li><span><a href=\"#Parallelization-Lab\" data-toc-modified-id=\"Parallelization-Lab-1\"><span class=\"toc-item-num\">1&nbsp;&nbsp;</span>Parallelization Lab</a></span><ul class=\"toc-item\"><li><span><a href=\"#Step-1:-Use-the-requests-library-to-retrieve-the-content-from-the-URL-below.\" data-toc-modified-id=\"Step-1:-Use-the-requests-library-to-retrieve-the-content-from-the-URL-below.-1.1\"><span class=\"toc-item-num\">1.1&nbsp;&nbsp;</span>Step 1: Use the requests library to retrieve the content from the URL below.</a></span></li><li><span><a href=\"#Step-2:-Use-BeautifulSoup-to-extract-a-list-of-all-the-unique-links-on-the-page.\" data-toc-modified-id=\"Step-2:-Use-BeautifulSoup-to-extract-a-list-of-all-the-unique-links-on-the-page.-1.2\"><span class=\"toc-item-num\">1.2&nbsp;&nbsp;</span>Step 2: Use BeautifulSoup to extract a list of all the unique links on the page.</a></span></li><li><span><a href=\"#Step-3:-Use-list-comprehensions-with-conditions-to-clean-the-link-list.\" data-toc-modified-id=\"Step-3:-Use-list-comprehensions-with-conditions-to-clean-the-link-list.-1.3\"><span class=\"toc-item-num\">1.3&nbsp;&nbsp;</span>Step 3: Use list comprehensions with conditions to clean the link list.</a></span></li><li><span><a href=\"#Step-4:-Use-the-os-library-to-create-a-folder-called-wikipedia-and-make-that-the-current-working-directory.\" data-toc-modified-id=\"Step-4:-Use-the-os-library-to-create-a-folder-called-wikipedia-and-make-that-the-current-working-directory.-1.4\"><span class=\"toc-item-num\">1.4&nbsp;&nbsp;</span>Step 4: Use the os library to create a folder called <em>wikipedia</em> and make that the current working directory.</a></span></li><li><span><a href=\"#Step-5:-Write-a-function-called-index_page-that-accepts-a-link-and-does-the-following.\" data-toc-modified-id=\"Step-5:-Write-a-function-called-index_page-that-accepts-a-link-and-does-the-following.-1.5\"><span class=\"toc-item-num\">1.5&nbsp;&nbsp;</span>Step 5: Write a function called index_page that accepts a link and does the following.</a></span></li><li><span><a href=\"#Step-6:-Sequentially-loop-through-the-list-of-links,-running-the-index_page-function-each-time.\" data-toc-modified-id=\"Step-6:-Sequentially-loop-through-the-list-of-links,-running-the-index_page-function-each-time.-1.6\"><span class=\"toc-item-num\">1.6&nbsp;&nbsp;</span>Step 6: Sequentially loop through the list of links, running the index_page function each time.</a></span></li><li><span><a href=\"#Step-7:-Perform-the-page-indexing-in-parallel-and-note-the-difference-in-performance.\" data-toc-modified-id=\"Step-7:-Perform-the-page-indexing-in-parallel-and-note-the-difference-in-performance.-1.7\"><span class=\"toc-item-num\">1.7&nbsp;&nbsp;</span>Step 7: Perform the page indexing in parallel and note the difference in performance.</a></span></li></ul></li></ul></div>"
   ]
  },
  {
   "cell_type": "markdown",
   "metadata": {},
   "source": [
    "# Parallelization Lab\n",
    "\n",
    "In this lab, you will be leveraging several concepts you have learned to obtain a list of links from a web page and crawl and index the pages referenced by those links - both sequentially and in parallel. Follow the steps below to complete the lab."
   ]
  },
  {
   "cell_type": "markdown",
   "metadata": {},
   "source": [
    "## Step 1: Use the requests library to retrieve the content from the URL below.\n",
    "\n",
    "https://en.wikipedia.org/wiki/Data_science"
   ]
  },
  {
   "cell_type": "code",
   "execution_count": 1,
   "metadata": {},
   "outputs": [],
   "source": [
    "#\n",
    "import requests as req\n",
    "\n",
    "url = 'https://en.wikipedia.org/wiki/Data_science'"
   ]
  },
  {
   "cell_type": "code",
   "execution_count": 2,
   "metadata": {},
   "outputs": [],
   "source": [
    "#your code\n",
    "# usamos requests para extraer el html en string\n",
    "\n",
    "html=req.get(url).text"
   ]
  },
  {
   "cell_type": "markdown",
   "metadata": {},
   "source": [
    "## Step 2: Use BeautifulSoup to extract a list of all the unique links on the page."
   ]
  },
  {
   "cell_type": "code",
   "execution_count": 3,
   "metadata": {},
   "outputs": [],
   "source": [
    "from bs4 import BeautifulSoup as bs\n",
    "import re"
   ]
  },
  {
   "cell_type": "code",
   "execution_count": 4,
   "metadata": {
    "scrolled": true
   },
   "outputs": [],
   "source": [
    "#your code\n",
    "# parsear\n",
    "\n",
    "soup=bs(html, 'html.parser')"
   ]
  },
  {
   "cell_type": "code",
   "execution_count": 5,
   "metadata": {},
   "outputs": [],
   "source": [
    "tabla=soup.find_all('a')"
   ]
  },
  {
   "cell_type": "code",
   "execution_count": 6,
   "metadata": {},
   "outputs": [
    {
     "data": {
      "text/plain": [
       "'#mw-head'"
      ]
     },
     "execution_count": 6,
     "metadata": {},
     "output_type": "execute_result"
    }
   ],
   "source": [
    "tabla[1]['href']"
   ]
  },
  {
   "cell_type": "code",
   "execution_count": 7,
   "metadata": {},
   "outputs": [
    {
     "data": {
      "text/plain": [
       "['/wiki/Data_cleansing',\n",
       " 'https://pl.wikipedia.org/wiki/Danologia',\n",
       " '/wiki/American_Statistical_Association',\n",
       " '/wiki/ODSC',\n",
       " '/wiki/Big_data',\n",
       " '/wiki/Data_integrity',\n",
       " 'https://eu.wikipedia.org/wiki/Datu_zientzia',\n",
       " '/wiki/Special:MyTalk',\n",
       " '/wiki/Extract,_transform,_load',\n",
       " '/wiki/Special:MyContributions']"
      ]
     },
     "execution_count": 7,
     "metadata": {},
     "output_type": "execute_result"
    }
   ],
   "source": [
    "lst=[]\n",
    "for i in range(len(tabla)):\n",
    "    try:\n",
    "        if 'wiki' in tabla[i]['href']:\n",
    "            lst.append(tabla[i]['href'])\n",
    "    except:\n",
    "        None\n",
    "        \n",
    "list(set(lst))[:10]"
   ]
  },
  {
   "cell_type": "markdown",
   "metadata": {},
   "source": [
    "## Step 3: Use list comprehensions with conditions to clean the link list.\n",
    "\n",
    "There are two types of links, absolute and relative. Absolute links have the full URL and begin with http while relative links begin with a forward slash (/) and point to an internal page within the wikipedia.org domain. Clean the respective types of URLs as follows.\n",
    "\n",
    "- Absolute Links: Create a list of these and remove any that contain a percentage sign (%).\n",
    "- Relativel Links: Create a list of these, add the domain to the link so that you have the full URL, and remove any that contain a percentage sign (%).\n",
    "- Combine the list of absolute and relative links and ensure there are no duplicates."
   ]
  },
  {
   "cell_type": "code",
   "execution_count": 8,
   "metadata": {},
   "outputs": [],
   "source": [
    "domain = 'http://wikipedia.org'"
   ]
  },
  {
   "cell_type": "code",
   "execution_count": 9,
   "metadata": {},
   "outputs": [],
   "source": [
    "#your code\n",
    "#All links\n",
    "links = list(set(lst))"
   ]
  },
  {
   "cell_type": "code",
   "execution_count": 10,
   "metadata": {},
   "outputs": [],
   "source": [
    "#Absolute links\n",
    "pattern = re.compile(r'http[s]?://(?:[a-zA-Z]|[0-9]|[$-_@.&+]|[!*\\(\\),]|(?:%[0-9a-fA-F][0-9a-fA-F])|#)+')\n",
    "#'^((?!%).)+$'\n",
    "\n",
    "absolute = []\n",
    "for i in links:\n",
    "    if i in re.findall(pattern, i):\n",
    "        if '%' not in i:\n",
    "            absolute.append(i)\n",
    "\n"
   ]
  },
  {
   "cell_type": "code",
   "execution_count": 11,
   "metadata": {},
   "outputs": [
    {
     "data": {
      "text/plain": [
       "['https://pl.wikipedia.org/wiki/Danologia',\n",
       " 'https://eu.wikipedia.org/wiki/Datu_zientzia',\n",
       " 'https://donate.wikimedia.org/wiki/Special:FundraiserRedirector?utm_source=donate&utm_medium=sidebar&utm_campaign=C13_en.wikipedia.org&uselang=en',\n",
       " 'https://tr.wikipedia.org/wiki/Veri_bilimi',\n",
       " 'https://fi.wikipedia.org/wiki/Datatiede',\n",
       " 'https://id.wikipedia.org/wiki/Ilmu_data',\n",
       " 'https://et.wikipedia.org/wiki/Andmeteadus',\n",
       " 'https://stats.wikimedia.org/#/en.wikipedia.org',\n",
       " 'https://cs.wikipedia.org/wiki/Data_science',\n",
       " 'https://en.wikipedia.org/w/index.php?title=Template:Data&action=edit',\n",
       " 'https://ms.wikipedia.org/wiki/Sains_data',\n",
       " 'https://en.wikipedia.org/w/index.php?title=Data_science&oldid=1120574273',\n",
       " 'https://developer.wikimedia.org',\n",
       " 'https://wikimediafoundation.org/',\n",
       " 'https://it.wikipedia.org/wiki/Scienza_dei_dati',\n",
       " 'https://www.mediawiki.org/',\n",
       " 'https://commons.wikimedia.org/wiki/Category:Data_science',\n",
       " 'https://es.wikipedia.org/wiki/Ciencia_de_datos',\n",
       " 'https://foundation.wikimedia.org/wiki/Privacy_policy',\n",
       " 'https://en.wikiversity.org/wiki/Data_science',\n",
       " 'https://eo.wikipedia.org/wiki/Datuma_scienco',\n",
       " 'https://www.wikidata.org/wiki/Special:EntityPage/Q2374463',\n",
       " 'https://simple.wikipedia.org/wiki/Data_science',\n",
       " 'https://nl.wikipedia.org/wiki/Datawetenschap',\n",
       " 'https://foundation.wikimedia.org/wiki/Cookie_statement',\n",
       " 'https://de.wikipedia.org/wiki/Data_Science',\n",
       " 'https://www.wikidata.org/wiki/Special:EntityPage/Q2374463#sitelinks-wikipedia']"
      ]
     },
     "execution_count": 11,
     "metadata": {},
     "output_type": "execute_result"
    }
   ],
   "source": [
    "absolute = [i for i in links if i in re.findall(pattern, i) if '%' not in i]\n",
    "absolute"
   ]
  },
  {
   "cell_type": "code",
   "execution_count": 12,
   "metadata": {},
   "outputs": [
    {
     "data": {
      "text/plain": [
       "['http://wikipedia.org/wiki/Data_cleansing',\n",
       " 'http://wikipedia.org/wiki/American_Statistical_Association',\n",
       " 'http://wikipedia.org/wiki/ODSC',\n",
       " 'http://wikipedia.org/wiki/Big_data',\n",
       " 'http://wikipedia.org/wiki/Data_integrity',\n",
       " 'http://wikipedia.org/wiki/Special:MyTalk',\n",
       " 'http://wikipedia.org/wiki/Extract,_transform,_load',\n",
       " 'http://wikipedia.org/wiki/Special:MyContributions',\n",
       " 'http://wikipedia.org/wiki/Space_telescope',\n",
       " 'http://wikipedia.org/wiki/Data_recovery']"
      ]
     },
     "execution_count": 12,
     "metadata": {},
     "output_type": "execute_result"
    }
   ],
   "source": [
    "#Relative links\n",
    "relative = [(domain + i) for i in links if i not in re.findall(pattern, i) if '%' not in i]\n",
    "relative[:10]"
   ]
  },
  {
   "cell_type": "code",
   "execution_count": 13,
   "metadata": {},
   "outputs": [
    {
     "data": {
      "text/plain": [
       "['http://wikipedia.org/wiki/Data_scraping',\n",
       " 'http://wikipedia.org/wiki/Category:Computational_fields_of_study',\n",
       " 'https://pl.wikipedia.org/wiki/Danologia',\n",
       " 'http://wikipedia.org/wiki/American_Statistical_Association',\n",
       " 'http://wikipedia.org/wiki/Special:MyTalk',\n",
       " 'http://wikipedia.org/wiki/Category:Data_analysis',\n",
       " 'http://wikipedia.org/wiki/Data_recovery',\n",
       " 'http://wikipedia.org/wiki/Nathan_Yau',\n",
       " 'https://eu.wikipedia.org/wiki/Datu_zientzia',\n",
       " 'http://wikipedia.org/wiki/Scientific_Data_(journal)']"
      ]
     },
     "execution_count": 13,
     "metadata": {},
     "output_type": "execute_result"
    }
   ],
   "source": [
    "#combined\n",
    "combined = list(set(absolute + relative))\n",
    "combined[:10]"
   ]
  },
  {
   "cell_type": "markdown",
   "metadata": {},
   "source": [
    "## Step 4: Use the os library to create a folder called *wikipedia* and make that the current working directory."
   ]
  },
  {
   "cell_type": "code",
   "execution_count": 14,
   "metadata": {},
   "outputs": [],
   "source": [
    "import os"
   ]
  },
  {
   "cell_type": "code",
   "execution_count": 16,
   "metadata": {},
   "outputs": [],
   "source": [
    "#your code\n",
    "# Directory\n",
    "directory = \"wikipedia\"\n",
    "  \n",
    "# Parent Directory path\n",
    "parent_dir = r\"C:\\FTDA\\Labs\\4.4-lab-parallelization_\"\n",
    "  \n",
    "# Path\n",
    "path = os.path.join(parent_dir, directory)\n",
    "  \n",
    "# Create the directory\n",
    "# 'wikipedia' in\n",
    "# 'C:\\FTDA\\Labs\\4.4-lab-parallelization'\n",
    "os.mkdir(path)"
   ]
  },
  {
   "cell_type": "code",
   "execution_count": 17,
   "metadata": {},
   "outputs": [],
   "source": [
    "#your code\n",
    "os.chdir(path)"
   ]
  },
  {
   "cell_type": "code",
   "execution_count": 18,
   "metadata": {},
   "outputs": [
    {
     "data": {
      "text/plain": [
       "'C:\\\\FTDA\\\\Labs\\\\4.4-lab-parallelization_\\\\wikipedia'"
      ]
     },
     "execution_count": 18,
     "metadata": {},
     "output_type": "execute_result"
    }
   ],
   "source": [
    "path"
   ]
  },
  {
   "cell_type": "code",
   "execution_count": 19,
   "metadata": {},
   "outputs": [
    {
     "data": {
      "text/plain": [
       "'C:\\\\FTDA\\\\Labs\\\\4.4-lab-parallelization_\\\\wikipedia'"
      ]
     },
     "execution_count": 19,
     "metadata": {},
     "output_type": "execute_result"
    }
   ],
   "source": [
    "os.getcwd()"
   ]
  },
  {
   "cell_type": "markdown",
   "metadata": {},
   "source": [
    "## Step 5: Write a function called index_page that accepts a link and does the following.\n",
    "\n",
    "- Tries to request the content of the page referenced by that link.\n",
    "- Slugifies the filename using the `slugify` function from the [python-slugify](https://pypi.org/project/python-slugify/) library and adds a .html file extension.\n",
    "    - If you don't already have the python-slugify library installed, you can pip install it as follows: `$ pip install python-slugify`.\n",
    "    - To import the slugify function, you would do the following: `from slugify import slugify`.\n",
    "    - You can then slugify a link as follows `slugify(link)`.\n",
    "- Creates a file in the wikipedia folder using the slugified filename and writes the contents of the page to the file.\n",
    "- If an exception occurs during the process above, just `pass`."
   ]
  },
  {
   "cell_type": "code",
   "execution_count": 20,
   "metadata": {},
   "outputs": [
    {
     "name": "stdout",
     "output_type": "stream",
     "text": [
      "Requirement already satisfied: python-slugify in c:\\users\\alejandro\\anaconda3\\lib\\site-packages (5.0.2)\n",
      "Requirement already satisfied: text-unidecode>=1.3 in c:\\users\\alejandro\\anaconda3\\lib\\site-packages (from python-slugify) (1.3)\n",
      "Note: you may need to restart the kernel to use updated packages.\n"
     ]
    }
   ],
   "source": [
    "%pip install python-slugify"
   ]
  },
  {
   "cell_type": "code",
   "execution_count": 21,
   "metadata": {},
   "outputs": [],
   "source": [
    "from slugify import slugify\n",
    "\n",
    "unicode=str()"
   ]
  },
  {
   "cell_type": "code",
   "execution_count": 22,
   "metadata": {},
   "outputs": [],
   "source": [
    "def index_page(s):\n",
    "    try:\n",
    "        html=req.get(s).text\n",
    "        filename = slugify(s) + '.html'\n",
    "        new_file = open(filename, 'w')\n",
    "        new_file.write(str(html.encode('utf-8')))\n",
    "    except:    \n",
    "        pass\n",
    "    "
   ]
  },
  {
   "cell_type": "code",
   "execution_count": 23,
   "metadata": {},
   "outputs": [],
   "source": [
    "index_page('http://wikipedia.org/wiki/Wikipedia:General_disclaimer')"
   ]
  },
  {
   "cell_type": "markdown",
   "metadata": {},
   "source": [
    "## Step 6: Sequentially loop through the list of links, running the index_page function each time.\n",
    "\n",
    "Remember to include `%%time` at the beginning of the cell so that it measures the time it takes for the cell to run."
   ]
  },
  {
   "cell_type": "code",
   "execution_count": 24,
   "metadata": {},
   "outputs": [
    {
     "name": "stdout",
     "output_type": "stream",
     "text": [
      "CPU times: total: 21.1 s\n",
      "Wall time: 2min 16s\n"
     ]
    }
   ],
   "source": [
    "\n",
    "%%time\n",
    "for i in combined:\n",
    "    \n",
    "    index_page(i)"
   ]
  },
  {
   "cell_type": "markdown",
   "metadata": {},
   "source": [
    "## Step 7: Perform the page indexing in parallel and note the difference in performance.\n",
    "\n",
    "Remember to include `%%time` at the beginning of the cell so that it measures the time it takes for the cell to run."
   ]
  },
  {
   "cell_type": "code",
   "execution_count": 25,
   "metadata": {},
   "outputs": [],
   "source": [
    "import multiprocessing as mp"
   ]
  },
  {
   "cell_type": "code",
   "execution_count": 26,
   "metadata": {},
   "outputs": [],
   "source": [
    "from tqdm.notebook import tqdm"
   ]
  },
  {
   "cell_type": "code",
   "execution_count": null,
   "metadata": {},
   "outputs": [
    {
     "data": {
      "application/vnd.jupyter.widget-view+json": {
       "model_id": "62d6d96f4488410387e23f598b8aaf36",
       "version_major": 2,
       "version_minor": 0
      },
      "text/plain": [
       "  0%|          | 0/186 [00:00<?, ?it/s]"
      ]
     },
     "metadata": {},
     "output_type": "display_data"
    }
   ],
   "source": [
    "%%time\n",
    "\n",
    "pool=mp.Pool(mp.cpu_count())    # usa todos los nucleos\n",
    "\n",
    "res=pool.map_async(index_page, tqdm(combined)).get()\n",
    "pool.close()"
   ]
  },
  {
   "cell_type": "code",
   "execution_count": null,
   "metadata": {},
   "outputs": [],
   "source": []
  }
 ],
 "metadata": {
  "kernelspec": {
   "display_name": "Python 3 (ipykernel)",
   "language": "python",
   "name": "python3"
  },
  "language_info": {
   "codemirror_mode": {
    "name": "ipython",
    "version": 3
   },
   "file_extension": ".py",
   "mimetype": "text/x-python",
   "name": "python",
   "nbconvert_exporter": "python",
   "pygments_lexer": "ipython3",
   "version": "3.9.12"
  },
  "toc": {
   "base_numbering": 1,
   "nav_menu": {},
   "number_sections": true,
   "sideBar": true,
   "skip_h1_title": false,
   "title_cell": "Table of Contents",
   "title_sidebar": "Contents",
   "toc_cell": true,
   "toc_position": {},
   "toc_section_display": true,
   "toc_window_display": false
  },
  "varInspector": {
   "cols": {
    "lenName": 16,
    "lenType": 16,
    "lenVar": 40
   },
   "kernels_config": {
    "python": {
     "delete_cmd_postfix": "",
     "delete_cmd_prefix": "del ",
     "library": "var_list.py",
     "varRefreshCmd": "print(var_dic_list())"
    },
    "r": {
     "delete_cmd_postfix": ") ",
     "delete_cmd_prefix": "rm(",
     "library": "var_list.r",
     "varRefreshCmd": "cat(var_dic_list()) "
    }
   },
   "types_to_exclude": [
    "module",
    "function",
    "builtin_function_or_method",
    "instance",
    "_Feature"
   ],
   "window_display": false
  }
 },
 "nbformat": 4,
 "nbformat_minor": 2
}
